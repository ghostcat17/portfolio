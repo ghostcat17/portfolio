{
  "nbformat": 4,
  "nbformat_minor": 0,
  "metadata": {
    "colab": {
      "name": "Copy of final.ipynb",
      "provenance": [],
      "mount_file_id": "1zkqasRyhd0DEVGSKC2UUG_dcZ3AH31RJ",
      "authorship_tag": "ABX9TyM9Bp/xeVWyylrS6deTwV3p",
      "include_colab_link": true
    },
    "kernelspec": {
      "name": "python3",
      "display_name": "Python 3"
    },
    "language_info": {
      "name": "python"
    }
  },
  "cells": [
    {
      "cell_type": "markdown",
      "metadata": {
        "id": "view-in-github",
        "colab_type": "text"
      },
      "source": [
        "<a href=\"https://colab.research.google.com/github/ghostcat17/portfolio/blob/main/Copy_of_final.ipynb\" target=\"_parent\"><img src=\"https://colab.research.google.com/assets/colab-badge.svg\" alt=\"Open In Colab\"/></a>"
      ]
    },
    {
      "cell_type": "code",
      "metadata": {
        "id": "S6dZqb_SFoq3"
      },
      "source": [
        "import numpy as np\n",
        "import pandas as pd\n",
        "from tensorflow import keras\n",
        "from tensorflow.keras import layers\n",
        "from keras import optimizers\n",
        "from keras.models import Model, Sequential\n",
        "from keras.layers import Dense, Activation\n",
        "from keras.layers import Dense, Dropout, LSTM, Input, Activation, concatenate, BatchNormalization, Conv1D, Conv2D, Flatten, MaxPooling1D\n",
        "from keras.callbacks import EarlyStopping, ModelCheckpoint"
      ],
      "execution_count": null,
      "outputs": []
    },
    {
      "cell_type": "code",
      "metadata": {
        "colab": {
          "base_uri": "https://localhost:8080/"
        },
        "id": "mU-LXysZFz7O",
        "outputId": "7a10a411-8c14-4159-c301-161590117e5b"
      },
      "source": [
        "from google.colab import drive\n",
        "drive.mount('/content/drive')"
      ],
      "execution_count": null,
      "outputs": [
        {
          "output_type": "stream",
          "text": [
            "Drive already mounted at /content/drive; to attempt to forcibly remount, call drive.mount(\"/content/drive\", force_remount=True).\n"
          ],
          "name": "stdout"
        }
      ]
    },
    {
      "cell_type": "code",
      "metadata": {
        "colab": {
          "base_uri": "https://localhost:8080/"
        },
        "id": "JVDyti0gF6UQ",
        "outputId": "6a82a754-a744-4385-8ceb-0d372edd5e1f"
      },
      "source": [
        "cd /content/drive/MyDrive/Pitt/NoFloats\n"
      ],
      "execution_count": null,
      "outputs": [
        {
          "output_type": "stream",
          "text": [
            "/content/drive/.shortcut-targets-by-id/1ElGklO6kbzbIVk4xFn_2mkaBxm8I89as/Pitt/NoFloats\n"
          ],
          "name": "stdout"
        }
      ]
    },
    {
      "cell_type": "code",
      "metadata": {
        "colab": {
          "base_uri": "https://localhost:8080/"
        },
        "id": "rK0CnQP7Tvz3",
        "outputId": "0f1fcb2f-2a28-4ae7-eb41-c03b7ee0b6a0"
      },
      "source": [
        "ls"
      ],
      "execution_count": null,
      "outputs": [
        {
          "output_type": "stream",
          "text": [
            "fulle10ppd.pkl  fulle14ppd.pkl  fulle18ppd.pkl  fulle9ppd.pkl   fullmaleppd.pkl\n",
            "fulle11ppd.pkl  fulle15ppd.pkl  fulle19ppd.pkl  fullfemppd.pkl  fullmid.pkl\n",
            "fulle12ppd.pkl  fulle16ppd.pkl  fulle20ppd.pkl  fullhigh.pkl\n",
            "fulle13ppd.pkl  fulle17ppd.pkl  fulle8ppd.pkl   fulllow.pkl\n"
          ],
          "name": "stdout"
        }
      ]
    },
    {
      "cell_type": "code",
      "metadata": {
        "id": "ltSTqnm0GS8w"
      },
      "source": [
        "import gensim\n",
        "import keras\n",
        "import pickle"
      ],
      "execution_count": null,
      "outputs": []
    },
    {
      "cell_type": "code",
      "metadata": {
        "colab": {
          "base_uri": "https://localhost:8080/",
          "height": 417
        },
        "id": "gUmB67O1HJUG",
        "outputId": "9ec42797-c067-4799-cde2-edc80ae4db39"
      },
      "source": [
        "filename1='fullmid.pkl'\n",
        "data=pickle.load(open(filename1,'rb')) ###open preprocessed data\n",
        "data\n"
      ],
      "execution_count": null,
      "outputs": [
        {
          "output_type": "execute_result",
          "data": {
            "text/html": [
              "<div>\n",
              "<style scoped>\n",
              "    .dataframe tbody tr th:only-of-type {\n",
              "        vertical-align: middle;\n",
              "    }\n",
              "\n",
              "    .dataframe tbody tr th {\n",
              "        vertical-align: top;\n",
              "    }\n",
              "\n",
              "    .dataframe thead th {\n",
              "        text-align: right;\n",
              "    }\n",
              "</style>\n",
              "<table border=\"1\" class=\"dataframe\">\n",
              "  <thead>\n",
              "    <tr style=\"text-align: right;\">\n",
              "      <th></th>\n",
              "      <th>Transcript</th>\n",
              "      <th>AD</th>\n",
              "      <th>id</th>\n",
              "      <th>sex</th>\n",
              "      <th>educ</th>\n",
              "    </tr>\n",
              "  </thead>\n",
              "  <tbody>\n",
              "    <tr>\n",
              "      <th>186</th>\n",
              "      <td>oh boy exc</td>\n",
              "      <td>1.0</td>\n",
              "      <td>1.000000e+01</td>\n",
              "      <td>1.0</td>\n",
              "      <td>12.0</td>\n",
              "    </tr>\n",
              "    <tr>\n",
              "      <th>187</th>\n",
              "      <td>wowie boy going cookie jar stool r get</td>\n",
              "      <td>1.0</td>\n",
              "      <td>1.000000e+01</td>\n",
              "      <td>1.0</td>\n",
              "      <td>12.0</td>\n",
              "    </tr>\n",
              "    <tr>\n",
              "      <th>188</th>\n",
              "      <td>wowie boy going cookie jar stool r get</td>\n",
              "      <td>1.0</td>\n",
              "      <td>1.000000e+01</td>\n",
              "      <td>1.0</td>\n",
              "      <td>12.0</td>\n",
              "    </tr>\n",
              "    <tr>\n",
              "      <th>189</th>\n",
              "      <td>hit bottom</td>\n",
              "      <td>1.0</td>\n",
              "      <td>1.000000e+01</td>\n",
              "      <td>1.0</td>\n",
              "      <td>12.0</td>\n",
              "    </tr>\n",
              "    <tr>\n",
              "      <th>190</th>\n",
              "      <td>mama ov sink overrunning uh</td>\n",
              "      <td>1.0</td>\n",
              "      <td>1.000000e+01</td>\n",
              "      <td>1.0</td>\n",
              "      <td>12.0</td>\n",
              "    </tr>\n",
              "    <tr>\n",
              "      <th>...</th>\n",
              "      <td>...</td>\n",
              "      <td>...</td>\n",
              "      <td>...</td>\n",
              "      <td>...</td>\n",
              "      <td>...</td>\n",
              "    </tr>\n",
              "    <tr>\n",
              "      <th>25889</th>\n",
              "      <td>washing dish and sink overflowing</td>\n",
              "      <td>0.0</td>\n",
              "      <td>2.000018e+09</td>\n",
              "      <td>0.0</td>\n",
              "      <td>15.0</td>\n",
              "    </tr>\n",
              "    <tr>\n",
              "      <th>25890</th>\n",
              "      <td>and paying attention going</td>\n",
              "      <td>0.0</td>\n",
              "      <td>2.000018e+09</td>\n",
              "      <td>0.0</td>\n",
              "      <td>15.0</td>\n",
              "    </tr>\n",
              "    <tr>\n",
              "      <th>25891</th>\n",
              "      <td>it nice kitchen clean</td>\n",
              "      <td>0.0</td>\n",
              "      <td>2.000018e+09</td>\n",
              "      <td>0.0</td>\n",
              "      <td>15.0</td>\n",
              "    </tr>\n",
              "    <tr>\n",
              "      <th>25892</th>\n",
              "      <td>nice outside nice yard</td>\n",
              "      <td>0.0</td>\n",
              "      <td>2.000018e+09</td>\n",
              "      <td>0.0</td>\n",
              "      <td>15.0</td>\n",
              "    </tr>\n",
              "    <tr>\n",
              "      <th>25893</th>\n",
              "      <td>it</td>\n",
              "      <td>0.0</td>\n",
              "      <td>2.000018e+09</td>\n",
              "      <td>0.0</td>\n",
              "      <td>15.0</td>\n",
              "    </tr>\n",
              "  </tbody>\n",
              "</table>\n",
              "<p>16939 rows × 5 columns</p>\n",
              "</div>"
            ],
            "text/plain": [
              "                                   Transcript   AD            id  sex  educ\n",
              "186                                oh boy exc  1.0  1.000000e+01  1.0  12.0\n",
              "187    wowie boy going cookie jar stool r get  1.0  1.000000e+01  1.0  12.0\n",
              "188    wowie boy going cookie jar stool r get  1.0  1.000000e+01  1.0  12.0\n",
              "189                                hit bottom  1.0  1.000000e+01  1.0  12.0\n",
              "190               mama ov sink overrunning uh  1.0  1.000000e+01  1.0  12.0\n",
              "...                                       ...  ...           ...  ...   ...\n",
              "25889       washing dish and sink overflowing  0.0  2.000018e+09  0.0  15.0\n",
              "25890              and paying attention going  0.0  2.000018e+09  0.0  15.0\n",
              "25891                   it nice kitchen clean  0.0  2.000018e+09  0.0  15.0\n",
              "25892                  nice outside nice yard  0.0  2.000018e+09  0.0  15.0\n",
              "25893                                      it  0.0  2.000018e+09  0.0  15.0\n",
              "\n",
              "[16939 rows x 5 columns]"
            ]
          },
          "metadata": {
            "tags": []
          },
          "execution_count": 7
        }
      ]
    },
    {
      "cell_type": "code",
      "metadata": {
        "colab": {
          "base_uri": "https://localhost:8080/"
        },
        "id": "zVer5dw4HpBp",
        "outputId": "21301ef0-baa6-4351-a02c-e2d495007bb7"
      },
      "source": [
        "Y= data.iloc[:,1].values\n",
        "Y"
      ],
      "execution_count": null,
      "outputs": [
        {
          "output_type": "execute_result",
          "data": {
            "text/plain": [
              "array([1., 1., 1., ..., 0., 0., 0.])"
            ]
          },
          "metadata": {
            "tags": []
          },
          "execution_count": 8
        }
      ]
    },
    {
      "cell_type": "code",
      "metadata": {
        "id": "B5K9R5j0HuMu"
      },
      "source": [
        "X = data['Transcript'].tolist()\n",
        "from sklearn.model_selection import train_test_split\n",
        "X_train, X_test, Y_train, Y_test = train_test_split(X,Y, test_size = 0.2, random_state = 0) ##split the data in training and testing\n"
      ],
      "execution_count": null,
      "outputs": []
    },
    {
      "cell_type": "code",
      "metadata": {
        "id": "piLQMmnBH40b"
      },
      "source": [
        "from keras.preprocessing.text import Tokenizer\n",
        "from keras.preprocessing.sequence import pad_sequences\n"
      ],
      "execution_count": null,
      "outputs": []
    },
    {
      "cell_type": "code",
      "metadata": {
        "id": "SIwRLGezIG5h"
      },
      "source": [
        "def create_tokens(lines):\n",
        "    tokens = Tokenizer()        ###function to create tokens\n",
        "    tokens.fit_on_texts(lines)\n",
        "    return tokens"
      ],
      "execution_count": null,
      "outputs": []
    },
    {
      "cell_type": "code",
      "metadata": {
        "id": "QjvtVp4AIJhT"
      },
      "source": [
        "train_tokenizer = create_tokens(X_train)"
      ],
      "execution_count": null,
      "outputs": []
    },
    {
      "cell_type": "code",
      "metadata": {
        "id": "-RTnTkU4UM5V"
      },
      "source": [
        "def encode_sentences(tokens,length,lines):   ###function to pad the data to maximum phrase length\n",
        "    X=tokens.texts_to_sequences(lines)\n",
        "    X=pad_sequences(X,length,padding='post')\n",
        "    return X    "
      ],
      "execution_count": null,
      "outputs": []
    },
    {
      "cell_type": "code",
      "metadata": {
        "id": "osm9gI3TUNvZ"
      },
      "source": [
        "X_train = encode_sentences(train_tokenizer,100, X_train)\n",
        "X_test = encode_sentences(train_tokenizer,100, X_test)"
      ],
      "execution_count": null,
      "outputs": []
    },
    {
      "cell_type": "code",
      "metadata": {
        "colab": {
          "base_uri": "https://localhost:8080/"
        },
        "id": "xgRSHN43UQJM",
        "outputId": "3d09cbd9-ca07-4fdc-f2b0-df35d93b0c67"
      },
      "source": [
        "print(X_train.shape)   ###check for dimensions\n",
        "print(X_test.shape)\n",
        "print(Y_train.shape)\n",
        "print(Y_test.shape)"
      ],
      "execution_count": null,
      "outputs": [
        {
          "output_type": "stream",
          "text": [
            "(13551, 100)\n",
            "(3388, 100)\n",
            "(13551,)\n",
            "(3388,)\n"
          ],
          "name": "stdout"
        }
      ]
    },
    {
      "cell_type": "code",
      "metadata": {
        "colab": {
          "base_uri": "https://localhost:8080/"
        },
        "id": "fVOkv1_cUSKG",
        "outputId": "f2018fea-61cc-4ba3-9284-16815fd7ff18"
      },
      "source": [
        "vocab_len= len(train_tokenizer.word_index ) + 1 \n",
        "vocab_len   ###vocab length"
      ],
      "execution_count": null,
      "outputs": [
        {
          "output_type": "execute_result",
          "data": {
            "text/plain": [
              "2221"
            ]
          },
          "metadata": {
            "tags": []
          },
          "execution_count": 16
        }
      ]
    },
    {
      "cell_type": "code",
      "metadata": {
        "id": "S1Quzk7YUUkP"
      },
      "source": [
        "from keras.models import Sequential\n",
        "from keras.layers import Embedding\n",
        "from keras.layers import Conv1D, LSTM, Bidirectional\n",
        "from keras.layers import MaxPooling1D\n",
        "from keras.layers import Flatten\n",
        "from keras.layers import Dense \n",
        "from keras.layers import Dropout\n",
        "from keras.callbacks import ModelCheckpoint\n",
        "from keras.constraints import maxnorm\n",
        "from sklearn.model_selection import GridSearchCV\n",
        "from keras.wrappers.scikit_learn import KerasClassifier"
      ],
      "execution_count": null,
      "outputs": []
    },
    {
      "cell_type": "code",
      "metadata": {
        "id": "TSlMAgo7UXhK"
      },
      "source": [
        "model = Sequential()\n",
        "e = Embedding(vocab_len, 100, input_length= 100)\n",
        "model.add(e)\n",
        "model.add(Conv1D(filters=128,kernel_size=3,activation='relu',strides= 1, kernel_initializer='he_uniform'))\n",
        "model.add(MaxPooling1D(pool_size=4))\n",
        "model.add(Bidirectional(LSTM(20)))\n",
        "model.add(Dropout(0.2))\n",
        "model.add(Dense(units = 1, activation = 'sigmoid', kernel_initializer= 'glorot_uniform'))\n",
        "model.compile(optimizer='Adam', loss = 'binary_crossentropy', metrics = ['accuracy'])"
      ],
      "execution_count": null,
      "outputs": []
    },
    {
      "cell_type": "code",
      "metadata": {
        "colab": {
          "base_uri": "https://localhost:8080/"
        },
        "id": "TJpnEHzlUaAE",
        "outputId": "5b1fc3f5-47e3-4c8e-cea2-7a6c34ca46c4"
      },
      "source": [
        "cnn_lstm_history=model.fit(X_train, Y_train, epochs = 25, batch_size = 64, verbose = 1, validation_split = 0.1)"
      ],
      "execution_count": null,
      "outputs": [
        {
          "output_type": "stream",
          "text": [
            "Epoch 1/25\n",
            "191/191 [==============================] - 16s 67ms/step - loss: nan - accuracy: 0.7706 - val_loss: nan - val_accuracy: 0.7596\n",
            "Epoch 2/25\n",
            "191/191 [==============================] - 12s 63ms/step - loss: nan - accuracy: 0.7714 - val_loss: nan - val_accuracy: 0.7596\n",
            "Epoch 3/25\n",
            "191/191 [==============================] - 12s 62ms/step - loss: nan - accuracy: 0.7714 - val_loss: nan - val_accuracy: 0.7596\n",
            "Epoch 4/25\n",
            "191/191 [==============================] - 12s 62ms/step - loss: nan - accuracy: 0.7714 - val_loss: nan - val_accuracy: 0.7596\n",
            "Epoch 5/25\n",
            "191/191 [==============================] - 12s 62ms/step - loss: nan - accuracy: 0.7714 - val_loss: nan - val_accuracy: 0.7596\n",
            "Epoch 6/25\n",
            "191/191 [==============================] - 12s 62ms/step - loss: nan - accuracy: 0.7714 - val_loss: nan - val_accuracy: 0.7596\n",
            "Epoch 7/25\n",
            "191/191 [==============================] - 12s 62ms/step - loss: nan - accuracy: 0.7714 - val_loss: nan - val_accuracy: 0.7596\n",
            "Epoch 8/25\n",
            "191/191 [==============================] - 12s 62ms/step - loss: nan - accuracy: 0.7714 - val_loss: nan - val_accuracy: 0.7596\n",
            "Epoch 9/25\n",
            "191/191 [==============================] - 12s 62ms/step - loss: nan - accuracy: 0.7714 - val_loss: nan - val_accuracy: 0.7596\n",
            "Epoch 10/25\n",
            "191/191 [==============================] - 12s 62ms/step - loss: nan - accuracy: 0.7714 - val_loss: nan - val_accuracy: 0.7596\n",
            "Epoch 11/25\n",
            "191/191 [==============================] - 12s 63ms/step - loss: nan - accuracy: 0.7714 - val_loss: nan - val_accuracy: 0.7596\n",
            "Epoch 12/25\n",
            "191/191 [==============================] - 12s 62ms/step - loss: nan - accuracy: 0.7714 - val_loss: nan - val_accuracy: 0.7596\n",
            "Epoch 13/25\n",
            "191/191 [==============================] - 12s 63ms/step - loss: nan - accuracy: 0.7714 - val_loss: nan - val_accuracy: 0.7596\n",
            "Epoch 14/25\n",
            "191/191 [==============================] - 12s 62ms/step - loss: nan - accuracy: 0.7714 - val_loss: nan - val_accuracy: 0.7596\n",
            "Epoch 15/25\n",
            "191/191 [==============================] - 12s 63ms/step - loss: nan - accuracy: 0.7714 - val_loss: nan - val_accuracy: 0.7596\n",
            "Epoch 16/25\n",
            "191/191 [==============================] - 12s 63ms/step - loss: nan - accuracy: 0.7714 - val_loss: nan - val_accuracy: 0.7596\n",
            "Epoch 17/25\n",
            "191/191 [==============================] - 12s 62ms/step - loss: nan - accuracy: 0.7714 - val_loss: nan - val_accuracy: 0.7596\n",
            "Epoch 18/25\n",
            "191/191 [==============================] - 12s 62ms/step - loss: nan - accuracy: 0.7714 - val_loss: nan - val_accuracy: 0.7596\n",
            "Epoch 19/25\n",
            "191/191 [==============================] - 12s 63ms/step - loss: nan - accuracy: 0.7714 - val_loss: nan - val_accuracy: 0.7596\n",
            "Epoch 20/25\n",
            "191/191 [==============================] - 12s 62ms/step - loss: nan - accuracy: 0.7714 - val_loss: nan - val_accuracy: 0.7596\n",
            "Epoch 21/25\n",
            "191/191 [==============================] - 12s 62ms/step - loss: nan - accuracy: 0.7714 - val_loss: nan - val_accuracy: 0.7596\n",
            "Epoch 22/25\n",
            "191/191 [==============================] - 12s 62ms/step - loss: nan - accuracy: 0.7714 - val_loss: nan - val_accuracy: 0.7596\n",
            "Epoch 23/25\n",
            "191/191 [==============================] - 12s 62ms/step - loss: nan - accuracy: 0.7714 - val_loss: nan - val_accuracy: 0.7596\n",
            "Epoch 24/25\n",
            "191/191 [==============================] - 12s 62ms/step - loss: nan - accuracy: 0.7714 - val_loss: nan - val_accuracy: 0.7596\n",
            "Epoch 25/25\n",
            "191/191 [==============================] - 12s 62ms/step - loss: nan - accuracy: 0.7714 - val_loss: nan - val_accuracy: 0.7596\n"
          ],
          "name": "stdout"
        }
      ]
    },
    {
      "cell_type": "code",
      "metadata": {
        "colab": {
          "base_uri": "https://localhost:8080/",
          "height": 167
        },
        "id": "HdOZDvMd5Og2",
        "outputId": "488d5b1e-94ae-4670-a6b8-3ce4cbca3c50"
      },
      "source": [
        "keras.utils.plot_model(cnn_lstm_history, show_shapes=True, rankdir=\"LR\")"
      ],
      "execution_count": null,
      "outputs": [
        {
          "output_type": "error",
          "ename": "AttributeError",
          "evalue": "ignored",
          "traceback": [
            "\u001b[0;31m---------------------------------------------------------------------------\u001b[0m",
            "\u001b[0;31mAttributeError\u001b[0m                            Traceback (most recent call last)",
            "\u001b[0;32m<ipython-input-20-a166b8ba68e9>\u001b[0m in \u001b[0;36m<module>\u001b[0;34m()\u001b[0m\n\u001b[0;32m----> 1\u001b[0;31m \u001b[0mkeras\u001b[0m\u001b[0;34m.\u001b[0m\u001b[0mutils\u001b[0m\u001b[0;34m.\u001b[0m\u001b[0mplot_model\u001b[0m\u001b[0;34m(\u001b[0m\u001b[0mcnn_lstm_history\u001b[0m\u001b[0;34m,\u001b[0m \u001b[0mshow_shapes\u001b[0m\u001b[0;34m=\u001b[0m\u001b[0;32mTrue\u001b[0m\u001b[0;34m,\u001b[0m \u001b[0mrankdir\u001b[0m\u001b[0;34m=\u001b[0m\u001b[0;34m\"LR\"\u001b[0m\u001b[0;34m)\u001b[0m\u001b[0;34m\u001b[0m\u001b[0;34m\u001b[0m\u001b[0m\n\u001b[0m",
            "\u001b[0;31mAttributeError\u001b[0m: module 'keras.utils' has no attribute 'plot_model'"
          ]
        }
      ]
    },
    {
      "cell_type": "code",
      "metadata": {
        "id": "99evr3qTHTGH"
      },
      "source": [
        "filename2='fulllow.pkl'\n",
        "data=pickle.load(open(filename2,'rb')) ###open preprocessed data"
      ],
      "execution_count": null,
      "outputs": []
    },
    {
      "cell_type": "code",
      "metadata": {
        "id": "MNRqG2OtUq2o"
      },
      "source": [
        "Y= data.iloc[:,1].values\n",
        "Y\n",
        "X = data['Transcript'].tolist()\n"
      ],
      "execution_count": null,
      "outputs": []
    },
    {
      "cell_type": "code",
      "metadata": {
        "id": "GDMVE2FVWKtQ"
      },
      "source": [
        "from sklearn.model_selection import train_test_split\n",
        "X_train, X_test, Y_train, Y_test = train_test_split(X,Y, test_size = 0.2, random_state = 0) ##split the data in training and testing"
      ],
      "execution_count": null,
      "outputs": []
    },
    {
      "cell_type": "code",
      "metadata": {
        "id": "Fid6BRv1Utm-",
        "colab": {
          "base_uri": "https://localhost:8080/"
        },
        "outputId": "32033f23-f5e8-4061-eb25-61f63dbe187d"
      },
      "source": [
        "train_tokenizer = create_tokens(X_train)\n",
        "X_train = encode_sentences(train_tokenizer,100, X_train)\n",
        "X_test = encode_sentences(train_tokenizer,100, X_test)\n",
        "vocab_len= len(train_tokenizer.word_index ) + 1 \n",
        "vocab_len   ###vocab length"
      ],
      "execution_count": null,
      "outputs": [
        {
          "output_type": "execute_result",
          "data": {
            "text/plain": [
              "576"
            ]
          },
          "metadata": {
            "tags": []
          },
          "execution_count": 25
        }
      ]
    },
    {
      "cell_type": "code",
      "metadata": {
        "id": "WiEYDTQNVJJ3"
      },
      "source": [
        "model = Sequential()\n",
        "e = Embedding(vocab_len, 100, input_length= 100)\n",
        "model.add(e)\n",
        "model.add(Conv1D(filters=128,kernel_size=3,activation='relu',strides= 1, kernel_initializer='he_uniform'))\n",
        "model.add(MaxPooling1D(pool_size=4))\n",
        "model.add(Bidirectional(LSTM(20)))\n",
        "model.add(Dropout(0.2))\n",
        "model.add(Dense(units = 1, activation = 'sigmoid', kernel_initializer= 'glorot_uniform'))\n",
        "model.compile(optimizer='Adam', loss = 'binary_crossentropy', metrics = ['accuracy'])"
      ],
      "execution_count": null,
      "outputs": []
    },
    {
      "cell_type": "code",
      "metadata": {
        "colab": {
          "base_uri": "https://localhost:8080/"
        },
        "id": "xtSgHxXGulOT",
        "outputId": "0cc5f502-6bd0-4839-8da5-b935139a61ab"
      },
      "source": [
        "cnn_lstm_history2=model.fit(X_train, Y_train, epochs = 25, batch_size = 64, verbose = 1, validation_split = 0.1)"
      ],
      "execution_count": null,
      "outputs": [
        {
          "output_type": "stream",
          "text": [
            "Epoch 1/25\n",
            "15/15 [==============================] - 5s 111ms/step - loss: nan - accuracy: 0.1862 - val_loss: nan - val_accuracy: 0.2115\n",
            "Epoch 2/25\n",
            "15/15 [==============================] - 1s 62ms/step - loss: nan - accuracy: 0.1625 - val_loss: nan - val_accuracy: 0.2115\n",
            "Epoch 3/25\n",
            "15/15 [==============================] - 1s 61ms/step - loss: nan - accuracy: 0.1625 - val_loss: nan - val_accuracy: 0.2115\n",
            "Epoch 4/25\n",
            "15/15 [==============================] - 1s 60ms/step - loss: nan - accuracy: 0.1625 - val_loss: nan - val_accuracy: 0.2115\n",
            "Epoch 5/25\n",
            "15/15 [==============================] - 1s 61ms/step - loss: nan - accuracy: 0.1625 - val_loss: nan - val_accuracy: 0.2115\n",
            "Epoch 6/25\n",
            "15/15 [==============================] - 1s 61ms/step - loss: nan - accuracy: 0.1625 - val_loss: nan - val_accuracy: 0.2115\n",
            "Epoch 7/25\n",
            "15/15 [==============================] - 1s 63ms/step - loss: nan - accuracy: 0.1625 - val_loss: nan - val_accuracy: 0.2115\n",
            "Epoch 8/25\n",
            "15/15 [==============================] - 1s 60ms/step - loss: nan - accuracy: 0.1625 - val_loss: nan - val_accuracy: 0.2115\n",
            "Epoch 9/25\n",
            "15/15 [==============================] - 1s 60ms/step - loss: nan - accuracy: 0.1625 - val_loss: nan - val_accuracy: 0.2115\n",
            "Epoch 10/25\n",
            "15/15 [==============================] - 1s 61ms/step - loss: nan - accuracy: 0.1625 - val_loss: nan - val_accuracy: 0.2115\n",
            "Epoch 11/25\n",
            "15/15 [==============================] - 1s 61ms/step - loss: nan - accuracy: 0.1625 - val_loss: nan - val_accuracy: 0.2115\n",
            "Epoch 12/25\n",
            "15/15 [==============================] - 1s 63ms/step - loss: nan - accuracy: 0.1625 - val_loss: nan - val_accuracy: 0.2115\n",
            "Epoch 13/25\n",
            "15/15 [==============================] - 1s 60ms/step - loss: nan - accuracy: 0.1625 - val_loss: nan - val_accuracy: 0.2115\n",
            "Epoch 14/25\n",
            "15/15 [==============================] - 1s 61ms/step - loss: nan - accuracy: 0.1625 - val_loss: nan - val_accuracy: 0.2115\n",
            "Epoch 15/25\n",
            "15/15 [==============================] - 1s 63ms/step - loss: nan - accuracy: 0.1625 - val_loss: nan - val_accuracy: 0.2115\n",
            "Epoch 16/25\n",
            "15/15 [==============================] - 1s 60ms/step - loss: nan - accuracy: 0.1625 - val_loss: nan - val_accuracy: 0.2115\n",
            "Epoch 17/25\n",
            "15/15 [==============================] - 1s 61ms/step - loss: nan - accuracy: 0.1625 - val_loss: nan - val_accuracy: 0.2115\n",
            "Epoch 18/25\n",
            "15/15 [==============================] - 1s 60ms/step - loss: nan - accuracy: 0.1625 - val_loss: nan - val_accuracy: 0.2115\n",
            "Epoch 19/25\n",
            "15/15 [==============================] - 1s 61ms/step - loss: nan - accuracy: 0.1625 - val_loss: nan - val_accuracy: 0.2115\n",
            "Epoch 20/25\n",
            "15/15 [==============================] - 1s 61ms/step - loss: nan - accuracy: 0.1625 - val_loss: nan - val_accuracy: 0.2115\n",
            "Epoch 21/25\n",
            "15/15 [==============================] - 1s 60ms/step - loss: nan - accuracy: 0.1625 - val_loss: nan - val_accuracy: 0.2115\n",
            "Epoch 22/25\n",
            "15/15 [==============================] - 1s 60ms/step - loss: nan - accuracy: 0.1625 - val_loss: nan - val_accuracy: 0.2115\n",
            "Epoch 23/25\n",
            "15/15 [==============================] - 1s 61ms/step - loss: nan - accuracy: 0.1625 - val_loss: nan - val_accuracy: 0.2115\n",
            "Epoch 24/25\n",
            "15/15 [==============================] - 1s 60ms/step - loss: nan - accuracy: 0.1625 - val_loss: nan - val_accuracy: 0.2115\n",
            "Epoch 25/25\n",
            "15/15 [==============================] - 1s 62ms/step - loss: nan - accuracy: 0.1625 - val_loss: nan - val_accuracy: 0.2115\n"
          ],
          "name": "stdout"
        }
      ]
    },
    {
      "cell_type": "code",
      "metadata": {
        "colab": {
          "base_uri": "https://localhost:8080/",
          "height": 754
        },
        "id": "TQQmOwJCPz6t",
        "outputId": "75b109c5-d26e-48bb-e7da-ac8a252d1f0f"
      },
      "source": [
        "from keras.utils.vis_utils import plot_model\n",
        "import tensorflow as tf\n",
        "tf.keras.utils.plot_model(model, show_shapes=True, show_layer_names=True)"
      ],
      "execution_count": null,
      "outputs": [
        {
          "output_type": "execute_result",
          "data": {
            "image/png": "[encoded data removed]",
            "text/plain": [
              "<IPython.core.display.Image object>"
            ]
          },
          "metadata": {
            "tags": []
          },
          "execution_count": 31
        }
      ]
    },
    {
      "cell_type": "code",
      "metadata": {
        "id": "zFoVIPI8HTbz",
        "colab": {
          "base_uri": "https://localhost:8080/",
          "height": 185
        },
        "outputId": "decbbe1e-1fcd-4d9f-d841-aab3663f9375"
      },
      "source": [
        "filename3='fullhigh.pkl'\n",
        "data=pickle.load(open(filename3,'rb')) ###open preprocessed data"
      ],
      "execution_count": null,
      "outputs": [
        {
          "output_type": "error",
          "ename": "NameError",
          "evalue": "ignored",
          "traceback": [
            "\u001b[0;31m---------------------------------------------------------------------------\u001b[0m",
            "\u001b[0;31mNameError\u001b[0m                                 Traceback (most recent call last)",
            "\u001b[0;32m<ipython-input-1-523315bd2be4>\u001b[0m in \u001b[0;36m<module>\u001b[0;34m()\u001b[0m\n\u001b[1;32m      1\u001b[0m \u001b[0mfilename3\u001b[0m\u001b[0;34m=\u001b[0m\u001b[0;34m'fullhigh.pkl'\u001b[0m\u001b[0;34m\u001b[0m\u001b[0;34m\u001b[0m\u001b[0m\n\u001b[0;32m----> 2\u001b[0;31m \u001b[0mdata\u001b[0m\u001b[0;34m=\u001b[0m\u001b[0mpickle\u001b[0m\u001b[0;34m.\u001b[0m\u001b[0mload\u001b[0m\u001b[0;34m(\u001b[0m\u001b[0mopen\u001b[0m\u001b[0;34m(\u001b[0m\u001b[0mfilename3\u001b[0m\u001b[0;34m,\u001b[0m\u001b[0;34m'rb'\u001b[0m\u001b[0;34m)\u001b[0m\u001b[0;34m)\u001b[0m \u001b[0;31m###open preprocessed data\u001b[0m\u001b[0;34m\u001b[0m\u001b[0;34m\u001b[0m\u001b[0m\n\u001b[0m",
            "\u001b[0;31mNameError\u001b[0m: name 'pickle' is not defined"
          ]
        }
      ]
    },
    {
      "cell_type": "code",
      "metadata": {
        "id": "fNgns-4FVhJM"
      },
      "source": [
        "Y= data.iloc[:,1].values\n",
        "X = data['Transcript'].tolist()\n",
        "\n",
        "X_train, X_test, Y_train, Y_test = train_test_split(X,Y, test_size = 0.2, random_state = 0) ##split the data in training and testing\n",
        "print(X_train) ###length of training, testing data\n",
        "print(len(X_test))\n",
        "print(len(Y_train))\n",
        "print(len(Y_test))"
      ],
      "execution_count": null,
      "outputs": []
    },
    {
      "cell_type": "code",
      "metadata": {
        "id": "jzROtuGrVlXl"
      },
      "source": [
        "train_tokenizer = create_tokens(X_train)\n",
        "X_train = encode_sentences(train_tokenizer,100, X_train)\n",
        "X_test = encode_sentences(train_tokenizer,100, X_test)\n",
        "vocab_len= len(train_tokenizer.word_index ) + 1 \n",
        "vocab_len   ###vocab length"
      ],
      "execution_count": null,
      "outputs": []
    },
    {
      "cell_type": "code",
      "metadata": {
        "id": "sP_7tiOwVu6d"
      },
      "source": [
        "model = Sequential()\n",
        "e = Embedding(vocab_len, 100, input_length= 100)\n",
        "model.add(e)\n",
        "model.add(Conv1D(filters=128,kernel_size=3,activation='relu',strides= 1, kernel_initializer='he_uniform'))\n",
        "model.add(MaxPooling1D(pool_size=4))\n",
        "model.add(Bidirectional(LSTM(20)))\n",
        "model.add(Dropout(0.2))\n",
        "model.add(Dense(units = 1, activation = 'sigmoid', kernel_initializer= 'glorot_uniform'))\n",
        "model.compile(optimizer='Adam', loss = 'binary_crossentropy', metrics = ['accuracy'])\n"
      ],
      "execution_count": null,
      "outputs": []
    },
    {
      "cell_type": "code",
      "metadata": {
        "id": "BdjMfKcYuuTp"
      },
      "source": [
        "cnn_lstm_history3=model.fit(X_train, Y_train, epochs = 25, batch_size = 64, verbose = 1, validation_split = 0.1)"
      ],
      "execution_count": null,
      "outputs": []
    },
    {
      "cell_type": "code",
      "metadata": {
        "id": "DrPbgXnQPj47"
      },
      "source": [
        ""
      ],
      "execution_count": null,
      "outputs": []
    },
    {
      "cell_type": "code",
      "metadata": {
        "id": "1jk4M_DHxVyR"
      },
      "source": [
        "filename1='fullmid.pkl'\n",
        "data=pickle.load(open(filename1,'rb')) ###open preprocessed data\n",
        "filename2='fulllow.pkl'\n",
        "data+=pickle.load(open(filename1,'rb')) ###open preprocessed data\n",
        "filename3='fullhgih.pkl'\n",
        "data+=pickle.load(open(filename1,'rb')) ###open preprocessed data\n",
        "\n",
        "data"
      ],
      "execution_count": null,
      "outputs": []
    },
    {
      "cell_type": "code",
      "metadata": {
        "id": "PD1vZB-4x2EM"
      },
      "source": [
        "Y= data.iloc[:,1].values\n",
        "X = data['Transcript'].tolist()\n",
        "\n",
        "X_train, X_test, Y_train, Y_test = train_test_split(X,Y, test_size = 0.2, random_state = 0) ##split the data in training and testing\n",
        "print(X_train) ###length of training, testing data\n",
        "print(len(X_test))\n",
        "print(len(Y_train))\n",
        "print(len(Y_test))"
      ],
      "execution_count": null,
      "outputs": []
    },
    {
      "cell_type": "code",
      "metadata": {
        "id": "fJB_lVAqyevj"
      },
      "source": [
        "train_tokenizer = create_tokens(X_train)\n",
        "X_train = encode_sentences(train_tokenizer,100, X_train)\n",
        "X_test = encode_sentences(train_tokenizer,100, X_test)\n",
        "vocab_len= len(train_tokenizer.word_index ) + 1 \n",
        "vocab_len   ###vocab length\n",
        "X_tr = []\n",
        "for i in range(len(X_train)):\n",
        "  X_tr.add([model.predict(X_train[i])])\n"
      ],
      "execution_count": null,
      "outputs": []
    },
    {
      "cell_type": "code",
      "metadata": {
        "id": "_HGTG0tnvOFj"
      },
      "source": [
        "import tensorflow as tf\n",
        "import numpy as np\n",
        "import pandas as pd\n",
        "from tensorflow import keras\n",
        "from tensorflow.keras import layers\n",
        "from keras import optimizers\n",
        "from keras.models import Model, Sequential\n",
        "from keras.layers import Dense, Activation\n",
        "from keras.layers import Dense, Dropout, LSTM, Input, Activation, concatenate, BatchNormalization, Conv1D, Conv2D, Flatten, MaxPooling1D\n",
        "from keras.callbacks import EarlyStopping, ModelCheckpoint"
      ],
      "execution_count": null,
      "outputs": []
    },
    {
      "cell_type": "code",
      "metadata": {
        "colab": {
          "base_uri": "https://localhost:8080/",
          "height": 422
        },
        "id": "8BRjlyb5v4cq",
        "outputId": "7c9a5aed-8351-4bf9-9aa5-7f4080791f45"
      },
      "source": [
        "model = Sequential()\n",
        "model.add(Dense(3,input_dim=3,activation='relu'))\n",
        "model.add(Dense(6, activation='relu'))\n",
        "model.add(Dense(1,activation='sigmoid',kernel_initializer= 'glorot_uniform'))\n",
        "model.compile(loss='binary_crossentropy', optimizer='adam', metrics=['accuracy'])\n",
        "\n",
        "import tensorflow as tf\n",
        "tf.keras.utils.plot_model(model, show_shapes=True, show_layer_names=True)"
      ],
      "execution_count": null,
      "outputs": [
        {
          "output_type": "execute_result",
          "data": {
            "image/png": "[encoded data removed]",
            "text/plain": [
              "<IPython.core.display.Image object>"
            ]
          },
          "metadata": {
            "tags": []
          },
          "execution_count": 35
        }
      ]
    },
    {
      "cell_type": "code",
      "metadata": {
        "id": "ZBxNN96oQwXt"
      },
      "source": [
        "cnn_lstm_historyfinal=model.fit(X_train, Y_train, epochs = 25, batch_size = 64, verbose = 1, validation_split = 0.1)"
      ],
      "execution_count": null,
      "outputs": []
    }
  ]
}